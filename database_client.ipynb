{
 "cells": [
  {
   "cell_type": "markdown",
   "metadata": {},
   "source": [
    "# Capstone project: Database client"
   ]
  },
  {
   "cell_type": "markdown",
   "metadata": {},
   "source": [
    "## Set up the environment"
   ]
  },
  {
   "cell_type": "code",
   "execution_count": 26,
   "metadata": {},
   "outputs": [
    {
     "name": "stdout",
     "output_type": "stream",
     "text": [
      "Requirement already satisfied: mysql-connector-python in c:\\users\\rainer\\appdata\\local\\programs\\python\\python310\\lib\\site-packages (8.2.0)\n",
      "Requirement already satisfied: protobuf<=4.21.12,>=4.21.1 in c:\\users\\rainer\\appdata\\local\\programs\\python\\python310\\lib\\site-packages (from mysql-connector-python) (4.21.12)\n"
     ]
    },
    {
     "name": "stderr",
     "output_type": "stream",
     "text": [
      "WARNING: Ignoring invalid distribution -ip (c:\\users\\rainer\\appdata\\local\\programs\\python\\python310\\lib\\site-packages)\n",
      "WARNING: Ignoring invalid distribution -ip (c:\\users\\rainer\\appdata\\local\\programs\\python\\python310\\lib\\site-packages)\n",
      "\n",
      "[notice] A new release of pip is available: 23.2.1 -> 23.3.1\n",
      "[notice] To update, run: python.exe -m pip install --upgrade pip\n"
     ]
    }
   ],
   "source": [
    "# Install MySQL connector/Python\n",
    "!pip install mysql-connector-python"
   ]
  },
  {
   "cell_type": "code",
   "execution_count": 27,
   "metadata": {},
   "outputs": [],
   "source": [
    "# Import connector module.\n",
    "import mysql.connector as connector"
   ]
  },
  {
   "cell_type": "markdown",
   "metadata": {},
   "source": [
    "## Task 1: Establish connection and create cursor"
   ]
  },
  {
   "cell_type": "code",
   "execution_count": 28,
   "metadata": {},
   "outputs": [
    {
     "name": "stdout",
     "output_type": "stream",
     "text": [
      "Connected to database: little_lemon_db\n"
     ]
    }
   ],
   "source": [
    "# Establish connection between MySQL database and Python.\n",
    "connection = connector.connect(user = \"root\", password = \"a1b2c3d4e5f6\", db = \"little_lemon_db\")\n",
    "print('Connected to database:', connection.database)"
   ]
  },
  {
   "cell_type": "code",
   "execution_count": 29,
   "metadata": {},
   "outputs": [
    {
     "name": "stdout",
     "output_type": "stream",
     "text": [
      "Cursor object created.\n"
     ]
    }
   ],
   "source": [
    "# Create cursor object.\n",
    "cursor = connection.cursor()\n",
    "print('Cursor object created.')"
   ]
  },
  {
   "cell_type": "markdown",
   "metadata": {},
   "source": [
    "## Task 2: Query SHOW TABLES"
   ]
  },
  {
   "cell_type": "code",
   "execution_count": 30,
   "metadata": {},
   "outputs": [],
   "source": [
    "# SQL query to show tables.\n",
    "show_tables_query = \"SHOW TABLES\""
   ]
  },
  {
   "cell_type": "code",
   "execution_count": 35,
   "metadata": {},
   "outputs": [],
   "source": [
    "# Execute cursor.\n",
    "cursor.execute(show_tables_query)"
   ]
  },
  {
   "cell_type": "code",
   "execution_count": 36,
   "metadata": {},
   "outputs": [
    {
     "name": "stdout",
     "output_type": "stream",
     "text": [
      "Connected database is: little_lemon_db\n",
      "Tables in the database are:\n",
      "bookings\n",
      "customers\n",
      "delivery\n",
      "employees\n",
      "menuitems\n",
      "menus\n",
      "orders\n",
      "ordersview\n"
     ]
    }
   ],
   "source": [
    "# Fetch results from cursor.\n",
    "# Print results.\n",
    "results = cursor.fetchall()\n",
    "print('Connected database is:', connection.database)\n",
    "print('Tables in the database are:')\n",
    "for table in results:\n",
    "    print(table[0])"
   ]
  },
  {
   "cell_type": "markdown",
   "metadata": {},
   "source": [
    "## Task 3: Query with table JOIN"
   ]
  },
  {
   "cell_type": "code",
   "execution_count": 37,
   "metadata": {},
   "outputs": [],
   "source": [
    "# Create SQL query to retrieve the full name and contact details for every customer that has placed an order greater than $60.\n",
    "join_query = \"\"\"\n",
    "SELECT Customers.FullName, Customers.ContactNumber, Customers.Email, Orders.TotalCost\n",
    "FROM Orders\n",
    "INNER JOIN Customers\n",
    "ON Orders.CustomerID = Customers.CustomerID\n",
    "WHERE Orders.TotalCost > 60;\n",
    "\"\"\""
   ]
  },
  {
   "cell_type": "code",
   "execution_count": 38,
   "metadata": {},
   "outputs": [],
   "source": [
    "# Execute cursor.\n",
    "cursor.execute(join_query)"
   ]
  },
  {
   "cell_type": "code",
   "execution_count": 39,
   "metadata": {},
   "outputs": [
    {
     "name": "stdout",
     "output_type": "stream",
     "text": [
      "Retrieved customer information:\n",
      "('FullName', 'ContactNumber', 'Email', 'TotalCost')\n",
      "('Jean Rossini', '9709679577', 'jrossini@email.com', Decimal('166.50'))\n",
      "('Maria Mueller', '1219583944', 'mariam@email.com', Decimal('180.30'))\n"
     ]
    }
   ],
   "source": [
    "# Fetch column names and results from cursor.\n",
    "# Print column names and results.\n",
    "results = cursor.fetchall()\n",
    "columns = cursor.column_names\n",
    "print('Retrieved customer information:')\n",
    "print(columns)\n",
    "for result in results:\n",
    "\tprint(result)"
   ]
  },
  {
   "cell_type": "code",
   "execution_count": 40,
   "metadata": {},
   "outputs": [
    {
     "name": "stdout",
     "output_type": "stream",
     "text": [
      "Connection to database is closed.\n"
     ]
    }
   ],
   "source": [
    "# Close the cursor.\n",
    "# Close the connection.\n",
    "if connection.is_connected():\n",
    "\tcursor.close()\n",
    "\tconnection.close()\n",
    "else:\n",
    "\tpass\n",
    "print('Connection to database is closed.')\n"
   ]
  }
 ],
 "metadata": {
  "kernelspec": {
   "display_name": "Python 3",
   "language": "python",
   "name": "python3"
  },
  "language_info": {
   "codemirror_mode": {
    "name": "ipython",
    "version": 3
   },
   "file_extension": ".py",
   "mimetype": "text/x-python",
   "name": "python",
   "nbconvert_exporter": "python",
   "pygments_lexer": "ipython3",
   "version": "3.10.3"
  }
 },
 "nbformat": 4,
 "nbformat_minor": 2
}
